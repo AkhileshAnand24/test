{
 "cells": [
  {
   "cell_type": "code",
   "execution_count": 1,
   "id": "bc784e51",
   "metadata": {},
   "outputs": [],
   "source": [
    "import geopandas as gpd\n",
    "import earthpy as et\n",
    "import shapefile\n",
    "from shapely.geometry import shape, Point\n",
    "import pyproj\n",
    "import pandas as pd\n",
    "import numpy as np"
   ]
  },
  {
   "cell_type": "code",
   "execution_count": 2,
   "id": "a1b05374",
   "metadata": {},
   "outputs": [],
   "source": [
    "import matplotlib.pyplot as plt"
   ]
  }
 ],
 "metadata": {
  "kernelspec": {
   "display_name": "Python 3 (ipykernel)",
   "language": "python",
   "name": "python3"
  },
  "language_info": {
   "codemirror_mode": {
    "name": "ipython",
    "version": 3
   },
   "file_extension": ".py",
   "mimetype": "text/x-python",
   "name": "python",
   "nbconvert_exporter": "python",
   "pygments_lexer": "ipython3",
   "version": "3.8.12"
  }
 },
 "nbformat": 4,
 "nbformat_minor": 5
}
