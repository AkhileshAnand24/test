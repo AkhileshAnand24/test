{
 "cells": [
  {
   "cell_type": "code",
   "execution_count": 1,
   "id": "9dcd4496",
   "metadata": {},
   "outputs": [],
   "source": [
    "import pandas as pd\n",
    "import numpy as np"
   ]
  },
  {
   "cell_type": "code",
   "execution_count": 2,
   "id": "f69af0b9",
   "metadata": {},
   "outputs": [],
   "source": [
    "import re"
   ]
  },
  {
   "cell_type": "code",
   "execution_count": 3,
   "id": "4a1a0f23",
   "metadata": {},
   "outputs": [],
   "source": [
    "Data=pd.read_excel(\"kectomatch.xlsx\")"
   ]
  },
  {
   "cell_type": "code",
   "execution_count": 4,
   "id": "c4d341cb",
   "metadata": {},
   "outputs": [],
   "source": [
    "Data2=pd.read_excel(\"Kecfrommatch.xlsx\")"
   ]
  },
  {
   "cell_type": "code",
   "execution_count": 5,
   "id": "6499acd7",
   "metadata": {},
   "outputs": [
    {
     "data": {
      "text/plain": [
       "(605, 1)"
      ]
     },
     "execution_count": 5,
     "metadata": {},
     "output_type": "execute_result"
    }
   ],
   "source": [
    "Data.shape"
   ]
  },
  {
   "cell_type": "code",
   "execution_count": 6,
   "id": "9b8f7b38",
   "metadata": {},
   "outputs": [
    {
     "data": {
      "text/plain": [
       "(765, 2)"
      ]
     },
     "execution_count": 6,
     "metadata": {},
     "output_type": "execute_result"
    }
   ],
   "source": [
    "Data2.shape"
   ]
  },
  {
   "cell_type": "code",
   "execution_count": 7,
   "id": "19455e26",
   "metadata": {},
   "outputs": [],
   "source": [
    "df = pd.MultiIndex.from_product(\n",
    "    [Data[\"kacamatan\"], Data2[\"Kecamatan\"]], names=[\"tomatch\", \"frommatch\"]\n",
    ").to_frame(index=False)"
   ]
  },
  {
   "cell_type": "code",
   "execution_count": 8,
   "id": "5f3d9695",
   "metadata": {},
   "outputs": [],
   "source": [
    "df[\"tomatch\"]=df[\"tomatch\"].astype(\"str\")"
   ]
  },
  {
   "cell_type": "code",
   "execution_count": 9,
   "id": "c6950f6d",
   "metadata": {},
   "outputs": [],
   "source": [
    "df[\"frommatch\"]=df[\"frommatch\"].astype(\"str\")"
   ]
  },
  {
   "cell_type": "code",
   "execution_count": 10,
   "id": "c466ab36",
   "metadata": {},
   "outputs": [],
   "source": [
    "def code(text):\n",
    "    return text[0:6]"
   ]
  },
  {
   "cell_type": "code",
   "execution_count": 11,
   "id": "0a221d83",
   "metadata": {},
   "outputs": [],
   "source": [
    "def name(text):\n",
    "    return text[6:]"
   ]
  },
  {
   "cell_type": "code",
   "execution_count": 12,
   "id": "ec06d70d",
   "metadata": {},
   "outputs": [],
   "source": [
    "df[\"tomatchname\"]=df[\"tomatch\"].apply(name)"
   ]
  },
  {
   "cell_type": "code",
   "execution_count": 13,
   "id": "77c11944",
   "metadata": {},
   "outputs": [],
   "source": [
    "df[\"tomatchkabucode\"]=df[\"tomatch\"].apply(code)"
   ]
  },
  {
   "cell_type": "code",
   "execution_count": 14,
   "id": "9c7da208",
   "metadata": {},
   "outputs": [],
   "source": [
    "df[\"frommatchname\"]=df[\"frommatch\"].apply(name)"
   ]
  },
  {
   "cell_type": "code",
   "execution_count": 15,
   "id": "b550cca9",
   "metadata": {},
   "outputs": [],
   "source": [
    "df[\"frommatchkabucode\"]=df[\"frommatch\"].apply(code)"
   ]
  },
  {
   "cell_type": "code",
   "execution_count": 16,
   "id": "2f4da430",
   "metadata": {},
   "outputs": [
    {
     "data": {
      "text/plain": [
       "(765, 6)"
      ]
     },
     "execution_count": 16,
     "metadata": {},
     "output_type": "execute_result"
    }
   ],
   "source": [
    "df[(df[\"tomatch\"]==\"id1105rantopeurelak\")].shape"
   ]
  },
  {
   "cell_type": "code",
   "execution_count": 17,
   "id": "f4d18686",
   "metadata": {},
   "outputs": [],
   "source": [
    "df[\"flag\"]=np.where(df[\"tomatchkabucode\"]==df[\"frommatchkabucode\"],\"yes\",\"no\")"
   ]
  },
  {
   "cell_type": "code",
   "execution_count": 18,
   "id": "a69ed337",
   "metadata": {},
   "outputs": [],
   "source": [
    "df1=df[df[\"flag\"]==\"yes\"]"
   ]
  },
  {
   "cell_type": "code",
   "execution_count": 19,
   "id": "b2361fad",
   "metadata": {},
   "outputs": [
    {
     "name": "stderr",
     "output_type": "stream",
     "text": [
      "C:\\Users\\Akhilesh.Anand\\Anaconda3\\envs\\sd\\lib\\site-packages\\pandas\\core\\frame.py:4906: SettingWithCopyWarning: \n",
      "A value is trying to be set on a copy of a slice from a DataFrame\n",
      "\n",
      "See the caveats in the documentation: https://pandas.pydata.org/pandas-docs/stable/user_guide/indexing.html#returning-a-view-versus-a-copy\n",
      "  return super().drop(\n"
     ]
    }
   ],
   "source": [
    "df1.drop(columns=[\"flag\",\"tomatch\",\"frommatch\"], axis=1,inplace=True)"
   ]
  },
  {
   "cell_type": "code",
   "execution_count": 20,
   "id": "56ed1770",
   "metadata": {},
   "outputs": [
    {
     "data": {
      "text/html": [
       "<div>\n",
       "<style scoped>\n",
       "    .dataframe tbody tr th:only-of-type {\n",
       "        vertical-align: middle;\n",
       "    }\n",
       "\n",
       "    .dataframe tbody tr th {\n",
       "        vertical-align: top;\n",
       "    }\n",
       "\n",
       "    .dataframe thead th {\n",
       "        text-align: right;\n",
       "    }\n",
       "</style>\n",
       "<table border=\"1\" class=\"dataframe\">\n",
       "  <thead>\n",
       "    <tr style=\"text-align: right;\">\n",
       "      <th></th>\n",
       "      <th>tomatchname</th>\n",
       "      <th>tomatchkabucode</th>\n",
       "      <th>frommatchname</th>\n",
       "      <th>frommatchkabucode</th>\n",
       "    </tr>\n",
       "  </thead>\n",
       "  <tbody>\n",
       "    <tr>\n",
       "      <th>498</th>\n",
       "      <td>rantopeurelak</td>\n",
       "      <td>id1105</td>\n",
       "      <td>peureulakbarat</td>\n",
       "      <td>id1105</td>\n",
       "    </tr>\n",
       "    <tr>\n",
       "      <th>531</th>\n",
       "      <td>rantopeurelak</td>\n",
       "      <td>id1105</td>\n",
       "      <td>rantopeureulak</td>\n",
       "      <td>id1105</td>\n",
       "    </tr>\n",
       "    <tr>\n",
       "      <th>1263</th>\n",
       "      <td>peurelakbarat</td>\n",
       "      <td>id1105</td>\n",
       "      <td>peureulakbarat</td>\n",
       "      <td>id1105</td>\n",
       "    </tr>\n",
       "    <tr>\n",
       "      <th>1296</th>\n",
       "      <td>peurelakbarat</td>\n",
       "      <td>id1105</td>\n",
       "      <td>rantopeureulak</td>\n",
       "      <td>id1105</td>\n",
       "    </tr>\n",
       "    <tr>\n",
       "      <th>1995</th>\n",
       "      <td>panteceureumen</td>\n",
       "      <td>id1107</td>\n",
       "      <td>pantaiceuremen</td>\n",
       "      <td>id1107</td>\n",
       "    </tr>\n",
       "    <tr>\n",
       "      <th>...</th>\n",
       "      <td>...</td>\n",
       "      <td>...</td>\n",
       "      <td>...</td>\n",
       "      <td>...</td>\n",
       "    </tr>\n",
       "    <tr>\n",
       "      <th>461079</th>\n",
       "      <td>sorongkepulauan</td>\n",
       "      <td>id9107</td>\n",
       "      <td>salawatitimur</td>\n",
       "      <td>id9107</td>\n",
       "    </tr>\n",
       "    <tr>\n",
       "      <th>461515</th>\n",
       "      <td>sorongutara</td>\n",
       "      <td>id9107</td>\n",
       "      <td>hutan</td>\n",
       "      <td>id9107</td>\n",
       "    </tr>\n",
       "    <tr>\n",
       "      <th>461844</th>\n",
       "      <td>sorongutara</td>\n",
       "      <td>id9107</td>\n",
       "      <td>salawatitimur</td>\n",
       "      <td>id9107</td>\n",
       "    </tr>\n",
       "    <tr>\n",
       "      <th>462280</th>\n",
       "      <td>sorongmanoi</td>\n",
       "      <td>id9107</td>\n",
       "      <td>hutan</td>\n",
       "      <td>id9107</td>\n",
       "    </tr>\n",
       "    <tr>\n",
       "      <th>462609</th>\n",
       "      <td>sorongmanoi</td>\n",
       "      <td>id9107</td>\n",
       "      <td>salawatitimur</td>\n",
       "      <td>id9107</td>\n",
       "    </tr>\n",
       "  </tbody>\n",
       "</table>\n",
       "<p>899 rows × 4 columns</p>\n",
       "</div>"
      ],
      "text/plain": [
       "            tomatchname tomatchkabucode   frommatchname frommatchkabucode\n",
       "498       rantopeurelak          id1105  peureulakbarat            id1105\n",
       "531       rantopeurelak          id1105  rantopeureulak            id1105\n",
       "1263      peurelakbarat          id1105  peureulakbarat            id1105\n",
       "1296      peurelakbarat          id1105  rantopeureulak            id1105\n",
       "1995     panteceureumen          id1107  pantaiceuremen            id1107\n",
       "...                 ...             ...             ...               ...\n",
       "461079  sorongkepulauan          id9107   salawatitimur            id9107\n",
       "461515      sorongutara          id9107           hutan            id9107\n",
       "461844      sorongutara          id9107   salawatitimur            id9107\n",
       "462280      sorongmanoi          id9107           hutan            id9107\n",
       "462609      sorongmanoi          id9107   salawatitimur            id9107\n",
       "\n",
       "[899 rows x 4 columns]"
      ]
     },
     "execution_count": 20,
     "metadata": {},
     "output_type": "execute_result"
    }
   ],
   "source": [
    "df1"
   ]
  },
  {
   "cell_type": "code",
   "execution_count": 22,
   "id": "ad37de33",
   "metadata": {},
   "outputs": [],
   "source": [
    "from strsimpy.cosine import Cosine"
   ]
  },
  {
   "cell_type": "code",
   "execution_count": 23,
   "id": "0f4aff71",
   "metadata": {},
   "outputs": [
    {
     "name": "stderr",
     "output_type": "stream",
     "text": [
      "C:\\Users\\AKHILE~1.ANA\\AppData\\Local\\Temp/ipykernel_9464/2152185561.py:2: SettingWithCopyWarning: \n",
      "A value is trying to be set on a copy of a slice from a DataFrame.\n",
      "Try using .loc[row_indexer,col_indexer] = value instead\n",
      "\n",
      "See the caveats in the documentation: https://pandas.pydata.org/pandas-docs/stable/user_guide/indexing.html#returning-a-view-versus-a-copy\n",
      "  df1[\"p0\"] = df1[\"tomatchname\"].apply(lambda s: cosine.get_profile(s))\n",
      "C:\\Users\\AKHILE~1.ANA\\AppData\\Local\\Temp/ipykernel_9464/2152185561.py:3: SettingWithCopyWarning: \n",
      "A value is trying to be set on a copy of a slice from a DataFrame.\n",
      "Try using .loc[row_indexer,col_indexer] = value instead\n",
      "\n",
      "See the caveats in the documentation: https://pandas.pydata.org/pandas-docs/stable/user_guide/indexing.html#returning-a-view-versus-a-copy\n",
      "  df1[\"p1\"] = df1[\"frommatchname\"].apply(lambda s: cosine.get_profile(s))\n",
      "C:\\Users\\AKHILE~1.ANA\\AppData\\Local\\Temp/ipykernel_9464/2152185561.py:4: SettingWithCopyWarning: \n",
      "A value is trying to be set on a copy of a slice from a DataFrame.\n",
      "Try using .loc[row_indexer,col_indexer] = value instead\n",
      "\n",
      "See the caveats in the documentation: https://pandas.pydata.org/pandas-docs/stable/user_guide/indexing.html#returning-a-view-versus-a-copy\n",
      "  df1[\"cosine_sim\"] = [cosine.similarity_profiles(p0,p1) for p0,p1 in zip(df1[\"p0\"],df1[\"p1\"])]\n",
      "C:\\Users\\Akhilesh.Anand\\Anaconda3\\envs\\sd\\lib\\site-packages\\pandas\\core\\frame.py:4906: SettingWithCopyWarning: \n",
      "A value is trying to be set on a copy of a slice from a DataFrame\n",
      "\n",
      "See the caveats in the documentation: https://pandas.pydata.org/pandas-docs/stable/user_guide/indexing.html#returning-a-view-versus-a-copy\n",
      "  return super().drop(\n"
     ]
    }
   ],
   "source": [
    "cosine = Cosine(2)\n",
    "df1[\"p0\"] = df1[\"tomatchname\"].apply(lambda s: cosine.get_profile(s)) \n",
    "df1[\"p1\"] = df1[\"frommatchname\"].apply(lambda s: cosine.get_profile(s)) \n",
    "df1[\"cosine_sim\"] = [cosine.similarity_profiles(p0,p1) for p0,p1 in zip(df1[\"p0\"],df1[\"p1\"])]\n",
    "\n",
    "df1.drop([\"p0\", \"p1\"], axis=1, inplace=True)"
   ]
  },
  {
   "cell_type": "code",
   "execution_count": 24,
   "id": "6e9734e7",
   "metadata": {},
   "outputs": [
    {
     "name": "stderr",
     "output_type": "stream",
     "text": [
      "C:\\Users\\Akhilesh.Anand\\Anaconda3\\envs\\sd\\lib\\site-packages\\pandas\\util\\_decorators.py:311: SettingWithCopyWarning: \n",
      "A value is trying to be set on a copy of a slice from a DataFrame\n",
      "\n",
      "See the caveats in the documentation: https://pandas.pydata.org/pandas-docs/stable/user_guide/indexing.html#returning-a-view-versus-a-copy\n",
      "  return func(*args, **kwargs)\n"
     ]
    }
   ],
   "source": [
    "df1.sort_values(by=\"cosine_sim\", ascending=False, inplace=True)"
   ]
  },
  {
   "cell_type": "code",
   "execution_count": 25,
   "id": "9db0da01",
   "metadata": {},
   "outputs": [
    {
     "data": {
      "text/html": [
       "<div>\n",
       "<style scoped>\n",
       "    .dataframe tbody tr th:only-of-type {\n",
       "        vertical-align: middle;\n",
       "    }\n",
       "\n",
       "    .dataframe tbody tr th {\n",
       "        vertical-align: top;\n",
       "    }\n",
       "\n",
       "    .dataframe thead th {\n",
       "        text-align: right;\n",
       "    }\n",
       "</style>\n",
       "<table border=\"1\" class=\"dataframe\">\n",
       "  <thead>\n",
       "    <tr style=\"text-align: right;\">\n",
       "      <th></th>\n",
       "      <th>tomatchname</th>\n",
       "      <th>tomatchkabucode</th>\n",
       "      <th>frommatchname</th>\n",
       "      <th>frommatchkabucode</th>\n",
       "      <th>cosine_sim</th>\n",
       "    </tr>\n",
       "  </thead>\n",
       "  <tbody>\n",
       "    <tr>\n",
       "      <th>280176</th>\n",
       "      <td>gandangbatusillanan</td>\n",
       "      <td>id7318</td>\n",
       "      <td>gandangbatusilanan</td>\n",
       "      <td>id7318</td>\n",
       "      <td>0.983192</td>\n",
       "    </tr>\n",
       "    <tr>\n",
       "      <th>272810</th>\n",
       "      <td>pasimasunggutimur</td>\n",
       "      <td>id7301</td>\n",
       "      <td>pasimassunggutimur</td>\n",
       "      <td>id7301</td>\n",
       "      <td>0.975900</td>\n",
       "    </tr>\n",
       "    <tr>\n",
       "      <th>276258</th>\n",
       "      <td>bontolempangang</td>\n",
       "      <td>id7306</td>\n",
       "      <td>bontolempangan</td>\n",
       "      <td>id7306</td>\n",
       "      <td>0.973729</td>\n",
       "    </tr>\n",
       "    <tr>\n",
       "      <th>281310</th>\n",
       "      <td>sangallaselatan</td>\n",
       "      <td>id7318</td>\n",
       "      <td>sangalaselatan</td>\n",
       "      <td>id7318</td>\n",
       "      <td>0.971825</td>\n",
       "    </tr>\n",
       "  </tbody>\n",
       "</table>\n",
       "</div>"
      ],
      "text/plain": [
       "                tomatchname tomatchkabucode       frommatchname  \\\n",
       "280176  gandangbatusillanan          id7318  gandangbatusilanan   \n",
       "272810    pasimasunggutimur          id7301  pasimassunggutimur   \n",
       "276258      bontolempangang          id7306      bontolempangan   \n",
       "281310      sangallaselatan          id7318      sangalaselatan   \n",
       "\n",
       "       frommatchkabucode  cosine_sim  \n",
       "280176            id7318    0.983192  \n",
       "272810            id7301    0.975900  \n",
       "276258            id7306    0.973729  \n",
       "281310            id7318    0.971825  "
      ]
     },
     "execution_count": 25,
     "metadata": {},
     "output_type": "execute_result"
    }
   ],
   "source": [
    "df1.head(4)"
   ]
  },
  {
   "cell_type": "code",
   "execution_count": 27,
   "id": "8ea761e1",
   "metadata": {},
   "outputs": [
    {
     "name": "stderr",
     "output_type": "stream",
     "text": [
      "C:\\Users\\Akhilesh.Anand\\Anaconda3\\envs\\sd\\lib\\site-packages\\pandas\\util\\_decorators.py:311: SettingWithCopyWarning: \n",
      "A value is trying to be set on a copy of a slice from a DataFrame\n",
      "\n",
      "See the caveats in the documentation: https://pandas.pydata.org/pandas-docs/stable/user_guide/indexing.html#returning-a-view-versus-a-copy\n",
      "  return func(*args, **kwargs)\n"
     ]
    }
   ],
   "source": [
    "df1.drop_duplicates(subset=\"tomatchname\", keep=\"first\", inplace=True)"
   ]
  },
  {
   "cell_type": "code",
   "execution_count": 28,
   "id": "64ab5116",
   "metadata": {},
   "outputs": [
    {
     "data": {
      "text/plain": [
       "(366, 5)"
      ]
     },
     "execution_count": 28,
     "metadata": {},
     "output_type": "execute_result"
    }
   ],
   "source": [
    "df1.shape"
   ]
  },
  {
   "cell_type": "code",
   "execution_count": 29,
   "id": "ebd13206",
   "metadata": {},
   "outputs": [],
   "source": [
    "df1.to_excel(\"kecamatch1.xlsx\")"
   ]
  },
  {
   "cell_type": "code",
   "execution_count": null,
   "id": "d8f7c606",
   "metadata": {},
   "outputs": [],
   "source": []
  },
  {
   "cell_type": "code",
   "execution_count": null,
   "id": "06126d66",
   "metadata": {},
   "outputs": [],
   "source": []
  }
 ],
 "metadata": {
  "kernelspec": {
   "display_name": "Python 3 (ipykernel)",
   "language": "python",
   "name": "python3"
  },
  "language_info": {
   "codemirror_mode": {
    "name": "ipython",
    "version": 3
   },
   "file_extension": ".py",
   "mimetype": "text/x-python",
   "name": "python",
   "nbconvert_exporter": "python",
   "pygments_lexer": "ipython3",
   "version": "3.8.12"
  }
 },
 "nbformat": 4,
 "nbformat_minor": 5
}
